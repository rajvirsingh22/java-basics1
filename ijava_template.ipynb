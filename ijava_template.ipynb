{
 "cells": [
  {
   "cell_type": "markdown",
   "metadata": {
    "id": "v9hXfeq_tmoc"
   },
   "source": [
    " # Java template for Colaboratory notebooks"
   ]
  },
  {
   "cell_type": "code",
   "execution_count": null,
   "metadata": {
    "id": "DC4pJkyNfOF1"
   },
   "outputs": [],
   "source": [
    "!apt update -q\n",
    "!apt-get install -q openjdk-11-jdk-headless\n",
    "!curl -L https://github.com/SpencerPark/IJava/releases/download/v1.3.0/ijava-1.3.0.zip -o ijava-kernel.zip\n",
    "!unzip -q ijava-kernel.zip -d ijava-kernel && cd ijava-kernel && python3 install.py --sys-prefix\n",
    "!jupyter kernelspec list"
   ]
  },
  {
   "cell_type": "code",
   "execution_count": null,
   "metadata": {
    "id": "MPiw3qOzqTow"
   },
   "outputs": [],
   "source": [
    "String printBinary(String binary, int blockSize, String separator) {\n",
    "        List<String> result = new ArrayList<>();\n",
    "        int index = 0;\n",
    "        while (index < binary.length()) {\n",
    "            result.add(binary.substring(index, Math.min(index + blockSize, binary.length())));\n",
    "            index += blockSize;\n",
    "        }\n",
    "\n",
    "        return result.stream().collect(java.util.stream.Collectors.joining(separator));\n",
    "    }\n",
    "void intToBin(int input){\n",
    "    String result = Integer.toBinaryString(input);\n",
    "    String resultWithPadding = String.format(\"%32s\", result).replaceAll(\" \", \"0\");\n",
    "    System.out.println(printBinary(resultWithPadding, 4, \" \")); \n",
    "}"
   ]
  },
  {
   "cell_type": "markdown",
   "metadata": {
    "id": "C9608xYXpdZg"
   },
   "source": [
    "Pregunta 1\n"
   ]
  },
  {
   "cell_type": "code",
   "execution_count": null,
   "metadata": {
    "id": "6qxyh82Wo2LX"
   },
   "outputs": [],
   "source": [
    "byte b0 = 122; \n",
    "byte b1 = 1;\n",
    "System.out.println(b0 + b1);\n"
   ]
  },
  {
   "cell_type": "markdown",
   "metadata": {
    "id": "AgFK35Kw7PPt"
   },
   "source": [
    "Pregunta 2\n"
   ]
  },
  {
   "cell_type": "code",
   "execution_count": null,
   "metadata": {
    "id": "XgXH3Fb3D4K4"
   },
   "outputs": [],
   "source": [
    "char c = 'a';\n",
    "int n = c;\n",
    "short s = (short)c;\n",
    "System.out.println(n);\n",
    "\n"
   ]
  },
  {
   "cell_type": "markdown",
   "metadata": {
    "id": "FwlOJsYbFv1R"
   },
   "source": [
    "Pregunta 3\n"
   ]
  },
  {
   "cell_type": "code",
   "execution_count": null,
   "metadata": {
    "id": "S7a-jWsFFx0O"
   },
   "outputs": [],
   "source": [
    "short s = (short)c;\n",
    "  System.out.println(s);\n",
    "\n"
   ]
  },
  {
   "cell_type": "markdown",
   "metadata": {
    "id": "8eQYauW4GHaj"
   },
   "source": [
    "Pregunta 4\n"
   ]
  },
  {
   "cell_type": "code",
   "execution_count": null,
   "metadata": {
    "id": "qPcDb2hWGJ1M"
   },
   "outputs": [],
   "source": [
    "short s = (short)32000;\n",
    "  System.out.println(s);\n",
    "short s = (short)35000;\n",
    "  System.out.println(s);\n"
   ]
  },
  {
   "cell_type": "markdown",
   "metadata": {
    "id": "C3msfRL9GZtn"
   },
   "source": [
    "Pregunta 5\n"
   ]
  },
  {
   "cell_type": "code",
   "execution_count": null,
   "metadata": {
    "id": "tBNHpIU_Gbbn"
   },
   "outputs": [],
   "source": [
    "var v = 5.0;\n",
    "  System.out.println(v);\n",
    "\n",
    "var v0 = 5;\n",
    "  System.out.println(v0);\n",
    "\n",
    "var v1 = v + v0;\n",
    "  System.out.println(v1);\n",
    "\n",
    "\n"
   ]
  },
  {
   "cell_type": "markdown",
   "metadata": {
    "id": "4SNkqII9HEUC"
   },
   "source": [
    "Pregunta 8\n"
   ]
  },
  {
   "cell_type": "code",
   "execution_count": null,
   "metadata": {
    "id": "-_ZLa0iYHG35"
   },
   "outputs": [],
   "source": [
    "char c = 'a'; \n",
    "char c1 = 1;\n",
    "char c2 = c += c1;\n",
    "//int c2 = c + c1;\n",
    "  System.out.println(c2);\n",
    "\n"
   ]
  },
  {
   "cell_type": "markdown",
   "metadata": {
    "id": "l02fvVTOJKam"
   },
   "source": [
    "Pregunta 9\n"
   ]
  },
  {
   "cell_type": "code",
   "execution_count": null,
   "metadata": {
    "id": "ZaVz3vW4JLLx"
   },
   "outputs": [],
   "source": [
    "var h = 4 * 4f + (4.0 + 4);\n",
    "float f = (float)h;\n",
    "  System.out.println(f);\n"
   ]
  },
  {
   "cell_type": "markdown",
   "metadata": {
    "id": "q2xT5f1tEQrO"
   },
   "source": [
    "Pregunta 10\n"
   ]
  },
  {
   "cell_type": "code",
   "execution_count": null,
   "metadata": {
    "id": "8ZQ5OtefKDfj"
   },
   "outputs": [],
   "source": [
    "byte b0 = 4;\n",
    "byte b1 = -4;\n",
    "byte b2 = 12;\n",
    "boolean bol1 = b0 == b2 / 3;\n",
    "boolean bol2 = (boolean)b0 + b1;\n",
    "boolean bol3 = b0 + b1 > b2;\n",
    "  System.out.println(bol1);\n",
    "  System.out.println(bol2);\n",
    "  System.out.println(bol3);\n"
   ]
  },
  {
   "cell_type": "code",
   "execution_count": null,
   "metadata": {
    "id": "bF2jPn3RfpfR"
   },
   "outputs": [],
   "source": [
    "System.out.println(\"Hello World\");\n"
   ]
  },
  {
   "cell_type": "code",
   "execution_count": null,
   "metadata": {
    "id": "AbhHs0kQNqZw"
   },
   "outputs": [],
   "source": []
  },
  {
   "cell_type": "code",
   "execution_count": null,
   "metadata": {
    "id": "Y2BVNSNKgkUK"
   },
   "outputs": [],
   "source": [
    "byte b = (byte)128;\n",
    "System.out.println(b);\n",
    "\n"
   ]
  },
  {
   "cell_type": "code",
   "execution_count": null,
   "metadata": {
    "id": "QhDaoL7Y9g7n"
   },
   "outputs": [],
   "source": [
    "short s = 10;\n",
    "int n = 10;\n",
    "long l = 10;"
   ]
  },
  {
   "cell_type": "code",
   "execution_count": null,
   "metadata": {
    "id": "Q6SQpwlbAogo"
   },
   "outputs": [],
   "source": [
    "int n = (int)10l;"
   ]
  },
  {
   "cell_type": "code",
   "execution_count": null,
   "metadata": {
    "id": "iCFDYnKZHC4l"
   },
   "outputs": [],
   "source": [
    "float f = 10.5f;\n",
    "  System.out.println(f);\n"
   ]
  },
  {
   "cell_type": "code",
   "execution_count": null,
   "metadata": {
    "id": "wsgf78cwHLLM"
   },
   "outputs": [],
   "source": [
    "int p =(int) 10.5;\n",
    "System.out.println(p);\n"
   ]
  },
  {
   "cell_type": "code",
   "execution_count": null,
   "metadata": {
    "id": "X8Dzr6JhIJN2"
   },
   "outputs": [],
   "source": [
    "char c = 'c';\n",
    "System.out.println(c);"
   ]
  },
  {
   "cell_type": "code",
   "execution_count": null,
   "metadata": {
    "id": "i55AgkVbIIr8"
   },
   "outputs": [],
   "source": [
    "int h = '$';\n",
    "System.out.println(h);\n",
    "char t = (char)h;\n",
    "System.out.println(t);\n"
   ]
  },
  {
   "cell_type": "code",
   "execution_count": null,
   "metadata": {
    "id": "QmDk6e-bK0H2"
   },
   "outputs": [],
   "source": [
    "byte y = (byte) (10+120);\n",
    "System.out.println(y);\n"
   ]
  },
  {
   "cell_type": "code",
   "execution_count": null,
   "metadata": {
    "id": "hiuJ7KiGLcUl"
   },
   "outputs": [],
   "source": [
    "byte y = (byte)10 + (byte)120;\n",
    "System.out.println(y);\n"
   ]
  },
  {
   "cell_type": "code",
   "execution_count": null,
   "metadata": {
    "id": "HTkqsZeEMg0K"
   },
   "outputs": [],
   "source": [
    "boolean bol1 = true;\n",
    "boolean bol2 = false;\n",
    "System.out.println(bol1);\n",
    "System.out.println(bol2);"
   ]
  },
  {
   "cell_type": "code",
   "execution_count": null,
   "metadata": {
    "id": "nmkqAEgyNrxG"
   },
   "outputs": [],
   "source": [
    "String salutacio = \"hola\";\n",
    "System.out.println(salutacio);\n"
   ]
  },
  {
   "cell_type": "code",
   "execution_count": null,
   "metadata": {
    "id": "5qhIASKZOQ3_"
   },
   "outputs": [],
   "source": [
    "Scanner scn = new Scanner(System.in);\n",
    "scn.nextline();"
   ]
  },
  {
   "cell_type": "code",
   "execution_count": null,
   "metadata": {
    "id": "uUJyejngmpzQ"
   },
   "outputs": [],
   "source": [
    "//suma//\n",
    "System.out.println(19+9);\n",
    "//Resta//\n",
    "System.out.println(10-8);\n",
    "//multi//\n",
    "System.out.println(10 * 9);\n",
    "//divi//\n",
    "System.out.println(10 / 9);\n",
    "//divi.decimal//\n",
    "System.out.println(10 / 9.0);"
   ]
  },
  {
   "cell_type": "code",
   "execution_count": null,
   "metadata": {
    "id": "X0RsQZPiqr7B"
   },
   "outputs": [],
   "source": [
    "int n =4;\n",
    "int m =2;\n",
    "int r =2* n / m + n * m ;\n",
    "System.out.println(r);\n",
    "int r2 =m^r;\n",
    "System.out.println(r2);"
   ]
  },
  {
   "cell_type": "code",
   "execution_count": null,
   "metadata": {
    "id": "F8iX1thbtcDy"
   },
   "outputs": [],
   "source": [
    "boolean lol= false;\n",
    "boolean tatta= true;\n",
    "\n",
    "boolean result = lol && tatta;\n",
    "boolean resultOr = lol || tatta;\n",
    "boolean resultNot = !lol;\n",
    "\n",
    "System.out.println(resultNot);\n",
    "System.out.println(result);\n",
    "System.out.println(resultOr);"
   ]
  },
  {
   "cell_type": "code",
   "execution_count": null,
   "metadata": {
    "id": "SWNUowzstcNZ"
   },
   "outputs": [],
   "source": [
    "!(true || false && true) && (false || false)"
   ]
  },
  {
   "cell_type": "code",
   "execution_count": null,
   "metadata": {
    "id": "BHvRGK6ptcVP"
   },
   "outputs": [],
   "source": [
    "x = 6;\n",
    "int x;\n",
    "int y = 6;\n",
    "\n",
    "System.out.println(x ==y); //igualtat//\n",
    "System.out.println(x != y);//diferent//\n",
    "System.out.println(x > y);//mes gran//\n",
    "System.out.println(x < y);//mes petit//\n",
    "System.out.println(x >= y);//mes gran o igual//\n",
    "System.out.println(x <= y);//mes petit o igual//"
   ]
  },
  {
   "cell_type": "code",
   "execution_count": null,
   "metadata": {
    "id": "4sIOFlgAtcYE"
   },
   "outputs": [],
   "source": [
    "int n = 5, m = 10;\n",
    "int r = n * m;\n",
    "System.out.println(r);\n"
   ]
  },
  {
   "cell_type": "code",
   "execution_count": null,
   "metadata": {
    "id": "Xi_6fPyXtcao"
   },
   "outputs": [],
   "source": [
    "boolean lol =true, tatta = false;\n",
    "boolean result = lol && tatta;\n",
    "System.out.println(result);                       "
   ]
  },
  {
   "cell_type": "code",
   "execution_count": null,
   "metadata": {
    "id": "sKjff6ritcdG"
   },
   "outputs": [],
   "source": [
    "boolean res = 6==5;\n",
    "System.out.println(res);\n",
    "if (res)\n",
    "System.out.println(\"Res es true\");\n",
    "else \n",
    "System.out.println(\"Res es false\");\n",
    "\n",
    "\n"
   ]
  },
  {
   "cell_type": "code",
   "execution_count": null,
   "metadata": {
    "id": "4Larpdl5tcfm"
   },
   "outputs": [],
   "source": [
    "int num = 10;\n",
    "//true si el num esta entre 10 i 20 incloses\n",
    "// false si no esta\n",
    "\n",
    "if(num <=20 && num >=10)\n",
    "System.out.println(\"Res es true\");\n",
    "\n",
    "else\n",
    "System.out.println(\"false\");"
   ]
  },
  {
   "cell_type": "code",
   "execution_count": null,
   "metadata": {
    "id": "N0yJgcvWtchj"
   },
   "outputs": [],
   "source": [
    "int x = 6;\n",
    "int v = 36;\n",
    "if(v % x == 0)\n",
    "  System.out.println(\"true\");\n",
    "else\n",
    "  System.out.println(\"false\");\n"
   ]
  },
  {
   "cell_type": "code",
   "execution_count": null,
   "metadata": {
    "id": "gT3jxAg5tcl9"
   },
   "outputs": [],
   "source": [
    "int x = 6;\n",
    "int v = 55;\n",
    "  System.out.printf(\"v = %d , x = %d%n \",v ,x);"
   ]
  },
  {
   "cell_type": "code",
   "execution_count": null,
   "metadata": {
    "id": "5Yba8TMCtco0"
   },
   "outputs": [],
   "source": [
    "  System.out.print(\"no line\");\n",
    "    System.out.print(\"no line\");\n",
    "  System.out.println(\"yes line\");\n",
    "  System.out.println(\"yes line\");\n",
    "\n"
   ]
  },
  {
   "cell_type": "code",
   "execution_count": null,
   "metadata": {
    "id": "0iHCa6qlFjqT"
   },
   "outputs": [],
   "source": [
    "  System.out.printf(\"hola %s!%n\", \"world\");"
   ]
  },
  {
   "cell_type": "code",
   "execution_count": null,
   "metadata": {
    "id": "2UjGxww9Hgre"
   },
   "outputs": [],
   "source": [
    "  System.out.printf(\"Numero dies mil = %,d %n\",10000\");\n"
   ]
  },
  {
   "cell_type": "code",
   "execution_count": null,
   "metadata": {
    "id": "PFq-zFY0IEmi"
   },
   "outputs": [],
   "source": [
    "System.out.printf(\"Numero pi = %5.2f%n\",3.4363);\n"
   ]
  },
  {
   "cell_type": "code",
   "execution_count": null,
   "metadata": {
    "id": "NnnTWPhONI61"
   },
   "outputs": [],
   "source": [
    "int a = 1;\n",
    "int b = 10;\n",
    "int c = 2017;\n",
    "\n",
    "\n",
    "System.out.printf(\"%s     /%s/%s %n\", a , b ,c);\n"
   ]
  },
  {
   "cell_type": "code",
   "execution_count": null,
   "metadata": {
    "id": "9tNxrPS5o4TH"
   },
   "outputs": [],
   "source": [
    "int num =19;\n",
    "if (num >=10 && num <= 20);\n",
    "  System.out.println (\"true\");\n",
    "else if (num >= 110 && num <=120);\n",
    "  System.out.println (\"trueG\");\n",
    "else\n",
    "  System.out.println (\"false\");"
   ]
  },
  {
   "cell_type": "code",
   "execution_count": 6,
   "metadata": {
    "id": "Lx8OmGgr8ifh"
   },
   "outputs": [
    {
     "name": "stdout",
     "output_type": "stream",
     "text": [
      "mejor de edat pero no puedes fumar \n"
     ]
    }
   ],
   "source": [
    "int edat = 17;\n",
    "\n",
    "if (edat >= 20)\n",
    "   System.out.printf (\"mejor de edat %n\");\n",
    "else if (edat <18 && edat>=0)\n",
    "  System.out.printf (\"mejor de edat pero no puedes fumar %n\");\n",
    "else\n",
    "  System.out.printf(\"vete a beber leche %n\");\n"
   ]
  },
  {
   "cell_type": "code",
   "execution_count": 5,
   "metadata": {
    "id": "OX9hbku8_HbM"
   },
   "outputs": [
    {
     "name": "stdout",
     "output_type": "stream",
     "text": [
      "mejor de edat pero no puedes fumar \n"
     ]
    }
   ],
   "source": [
    "int edat = 17;\n",
    "\n",
    "if (edat >= 20)\n",
    "   System.out.printf (\"mejor de edat %n\");\n",
    "else if (edat <18 && edat>=0)\n",
    "  System.out.printf (\"mejor de edat pero no puedes fumar %n\");\n",
    "else if (edat <17 && edat>=12)\n",
    "  System.out.printf (\"\");\n",
    "else\n",
    "  System.out.printf(\"vete a beber leche %n\");"
   ]
  },
  {
   "cell_type": "code",
   "execution_count": 20,
   "metadata": {},
   "outputs": [
    {
     "name": "stdout",
     "output_type": "stream",
     "text": [
      "NUmber Positive"
     ]
    }
   ],
   "source": [
    "int num = 35;\n",
    "\n",
    "if (num >= 30)\n",
    "       System.out.printf (\"NUmber Positive\");\n",
    "else\n",
    "       System.out.printf (\"Negativa\");\n"
   ]
  },
  {
   "cell_type": "code",
   "execution_count": null,
   "metadata": {},
   "outputs": [],
   "source": [
    "int a = 1;\n",
    "int b = 5;\n",
    "int c = 1;\n"
   ]
  }
 ],
 "metadata": {
  "colab": {
   "collapsed_sections": [],
   "private_outputs": true,
   "provenance": []
  },
  "kernelspec": {
   "display_name": "Java 17",
   "language": "java",
   "name": "java"
  },
  "language_info": {
   "codemirror_mode": "java",
   "file_extension": ".jshell",
   "mimetype": "text/x-java-source",
   "name": "Java",
   "pygments_lexer": "java",
   "version": "17.0.4+8-LTS"
  }
 },
 "nbformat": 4,
 "nbformat_minor": 4
}
